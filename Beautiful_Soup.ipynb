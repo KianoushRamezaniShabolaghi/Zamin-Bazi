{
 "cells": [
  {
   "cell_type": "code",
   "execution_count": null,
   "metadata": {},
   "outputs": [],
   "source": [
    "!pip install beautifulsoup4"
   ]
  },
  {
   "cell_type": "code",
   "execution_count": 2,
   "metadata": {},
   "outputs": [],
   "source": [
    "from bs4 import BeautifulSoup\n",
    "import requests"
   ]
  },
  {
   "cell_type": "code",
   "execution_count": 13,
   "metadata": {},
   "outputs": [],
   "source": [
    "response = requests.get('https://www.linkedin.com/feed/')\n",
    "html_content = response.text"
   ]
  },
  {
   "cell_type": "code",
   "execution_count": 14,
   "metadata": {},
   "outputs": [],
   "source": [
    " soup = BeautifulSoup(html_content, 'html.parser')"
   ]
  },
  {
   "cell_type": "code",
   "execution_count": 15,
   "metadata": {},
   "outputs": [
    {
     "name": "stdout",
     "output_type": "stream",
     "text": [
      "Title of the page: \n",
      "            \n",
      "          LinkedIn Login, Sign in | LinkedIn\n",
      "      \n",
      "        \n"
     ]
    }
   ],
   "source": [
    "title = soup.title.text\n",
    "print(f\"Title of the page: {title}\")"
   ]
  },
  {
   "cell_type": "code",
   "execution_count": 17,
   "metadata": {},
   "outputs": [
    {
     "name": "stdout",
     "output_type": "stream",
     "text": [
      "/\n",
      "/checkpoint/rp/request-password-reset?session_redirect=https%3A%2F%2Fwww%2Elinkedin%2Ecom%2Ffeed%2F\n",
      "/legal/user-agreement\n",
      "/legal/privacy-policy\n",
      "/legal/cookie-policy\n",
      "None\n",
      "/signup/cold-join?session_redirect=https%3A%2F%2Fwww.linkedin.com%2Ffeed%2F\n",
      "/legal/user-agreement\n",
      "/legal/privacy-policy\n",
      "/legal/cookie-policy\n",
      "/legal/user-agreement?trk=d_checkpoint_lg_consumerLogin_ft_user_agreement\n",
      "/legal/privacy-policy?trk=d_checkpoint_lg_consumerLogin_ft_privacy_policy\n",
      "/legal/california-privacy-disclosure?trk=d_checkpoint_lg_consumerLogin_ft_california_privacy_choices\n",
      "/help/linkedin/answer/34593?lang=en&trk=d_checkpoint_lg_consumerLogin_ft_community_guidelines\n",
      "/legal/cookie-policy?trk=d_checkpoint_lg_consumerLogin_ft_cookie_policy\n",
      "/legal/copyright-policy?trk=d_checkpoint_lg_consumerLogin_ft_copyright_policy\n",
      "/help/linkedin?trk=d_checkpoint_lg_consumerLogin_ft_send_feedback&lang=en\n"
     ]
    }
   ],
   "source": [
    "# Find all links in the page\n",
    "links = soup.find_all('a')\n",
    "for link in links:\n",
    "    print(link.get('href'))"
   ]
  },
  {
   "cell_type": "code",
   "execution_count": 18,
   "metadata": {},
   "outputs": [
    {
     "name": "stdout",
     "output_type": "stream",
     "text": [
      "https://ponf.linkedin.com/pixel/tracking.png?reqid=99e9188c-1e64-456a-814a-44a09d2dc215&pageInstance=urn:li:page:checkpoint_lg_uasLogin;hOYZnQ9PSeWvXF+tK3gYpA==&js=disabled\n"
     ]
    }
   ],
   "source": [
    "# Extract all images sources\n",
    "images = soup.find_all('img')\n",
    "for img in images:\n",
    "    print(img.get('src'))"
   ]
  },
  {
   "cell_type": "code",
   "execution_count": 19,
   "metadata": {},
   "outputs": [
    {
     "name": "stdout",
     "output_type": "stream",
     "text": [
      "\n",
      "              Stay updated on your professional world.\n",
      "          \n",
      "\n",
      "          By clicking Continue, you agree to LinkedIn’s User Agreement, Privacy Policy, and Cookie Policy.\n",
      "        \n",
      "Click on the link to sign in instantly to your LinkedIn account.\n",
      "If you don’t see the email in your inbox, check your spam folder.\n",
      "\n",
      "              Agree & Join LinkedIn\n",
      "            \n",
      "\n",
      "              By clicking Continue, you agree to LinkedIn’s User Agreement, Privacy Policy, and Cookie Policy.\n",
      "            \n",
      "\n",
      "\n",
      "\n",
      "\n",
      "\n",
      "\n",
      "\n",
      "\n",
      "\n",
      "\n",
      "\n",
      "\n",
      "\n",
      "\n",
      "\n",
      "\n",
      "\n",
      "\n",
      "\n",
      "\n",
      "\n",
      "\n",
      "\n",
      "\n",
      "\n",
      "\n",
      "\n",
      "\n",
      "\n",
      "\n",
      "\n",
      "\n",
      "\n",
      "\n",
      "\n",
      "\n",
      "\n",
      "\n",
      "\n",
      "\n",
      "\n",
      "\n",
      "\n",
      "                LinkedIn\n",
      "              \n",
      "              © 2025\n",
      "            \n",
      "\n"
     ]
    }
   ],
   "source": [
    "# Extract all paragraph texts\n",
    "paragraphs = soup.find_all('p')\n",
    "for para in paragraphs:\n",
    "    print(para.text)"
   ]
  },
  {
   "cell_type": "code",
   "execution_count": null,
   "metadata": {},
   "outputs": [],
   "source": [
    "# Extract table data\n",
    "tables = soup.find_all('table')\n",
    "for table in tables:\n",
    "    rows = table.find_all('tr')\n",
    "    for row in rows:\n",
    "        columns = row.find_all('td')\n",
    "        for column in columns:\n",
    "            print(column.text)"
   ]
  },
  {
   "cell_type": "code",
   "execution_count": 12,
   "metadata": {},
   "outputs": [],
   "source": [
    "# Extract meta description\n",
    "meta_description = soup.find('meta', attrs={'name': 'description'})\n",
    "if meta_description:\n",
    "    print(meta_description.get('content'))"
   ]
  }
 ],
 "metadata": {
  "kernelspec": {
   "display_name": "test",
   "language": "python",
   "name": "python3"
  },
  "language_info": {
   "codemirror_mode": {
    "name": "ipython",
    "version": 3
   },
   "file_extension": ".py",
   "mimetype": "text/x-python",
   "name": "python",
   "nbconvert_exporter": "python",
   "pygments_lexer": "ipython3",
   "version": "3.10.12"
  }
 },
 "nbformat": 4,
 "nbformat_minor": 2
}
